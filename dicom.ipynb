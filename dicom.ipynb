{
 "cells": [
  {
   "cell_type": "markdown",
   "metadata": {},
   "source": [
    "# Working with DICOM files"
   ]
  },
  {
   "cell_type": "markdown",
   "metadata": {},
   "source": [
    "All the utils for owrking with DICOM files are stored in `dpipe.medim.dicom`:"
   ]
  },
  {
   "cell_type": "code",
   "execution_count": 2,
   "metadata": {},
   "outputs": [],
   "source": [
    "from dpipe.medim.dicom import *"
   ]
  },
  {
   "cell_type": "markdown",
   "metadata": {},
   "source": [
    "Before we start analysing our files, let's install some additional libraries, which add support for various medical imaging formats:\n",
    "\n",
    "```bash\n",
    "conda install -c glueviz gdcm\n",
    "```\n",
    "\n",
    "We'll be working with a subset of the `CT Lymph Nodes` dataset which can be downloaded [here](https://wiki.cancerimagingarchive.net/display/Public/CT+Lymph+Nodes)."
   ]
  },
  {
   "cell_type": "code",
   "execution_count": 27,
   "metadata": {},
   "outputs": [],
   "source": [
    "path = '~/dicom_data/'"
   ]
  },
  {
   "cell_type": "markdown",
   "metadata": {},
   "source": [
    "## Crawling\n",
    "\n",
    "`join_dicom_tree` is the main function that collects the DICOM files metadata:"
   ]
  },
  {
   "cell_type": "code",
   "execution_count": 29,
   "metadata": {},
   "outputs": [],
   "source": [
    "df = join_dicom_tree(path, relative=True, verbose=False) "
   ]
  },
  {
   "cell_type": "markdown",
   "metadata": {},
   "source": [
    "It recursively visits the subfolders of `path`, also it adds some additional attributes: `NoError`, `HasPixelArray`, `PathToFolder`, `FileName`:"
   ]
  },
  {
   "cell_type": "code",
   "execution_count": 33,
   "metadata": {
    "scrolled": true
   },
   "outputs": [
    {
     "data": {
      "text/plain": [
       "(2588, 2587, 2587)"
      ]
     },
     "execution_count": 33,
     "metadata": {},
     "output_type": "execute_result"
    }
   ],
   "source": [
    "len(df), df.NoError.sum(), df.HasPixelArray.sum()"
   ]
  },
  {
   "cell_type": "markdown",
   "metadata": {},
   "source": [
    "Thre resulting dataframe has 2588 files' metadata in it, and only one file was openned with errors, let's check which one:"
   ]
  },
  {
   "cell_type": "code",
   "execution_count": 36,
   "metadata": {},
   "outputs": [
    {
     "data": {
      "text/html": [
       "<div>\n",
       "<style scoped>\n",
       "    .dataframe tbody tr th:only-of-type {\n",
       "        vertical-align: middle;\n",
       "    }\n",
       "\n",
       "    .dataframe tbody tr th {\n",
       "        vertical-align: top;\n",
       "    }\n",
       "\n",
       "    .dataframe thead th {\n",
       "        text-align: right;\n",
       "    }\n",
       "</style>\n",
       "<table border=\"1\" class=\"dataframe\">\n",
       "  <thead>\n",
       "    <tr style=\"text-align: right;\">\n",
       "      <th></th>\n",
       "      <th>FileName</th>\n",
       "      <th>PathToFolder</th>\n",
       "    </tr>\n",
       "  </thead>\n",
       "  <tbody>\n",
       "    <tr>\n",
       "      <th>0</th>\n",
       "      <td>readme.txt</td>\n",
       "      <td>.</td>\n",
       "    </tr>\n",
       "  </tbody>\n",
       "</table>\n",
       "</div>"
      ],
      "text/plain": [
       "     FileName PathToFolder\n",
       "0  readme.txt            ."
      ]
     },
     "execution_count": 36,
     "metadata": {},
     "output_type": "execute_result"
    }
   ],
   "source": [
    "df.loc[~df.NoError, ['FileName', 'PathToFolder']]"
   ]
  },
  {
   "cell_type": "markdown",
   "metadata": {},
   "source": [
    "There is a file `readme.txt` in the root of the folders tree, which is obvisously not a DICOM file.\n",
    "\n",
    "Note that `PathToFolder` is relative to `path`, this is because we passed `relative=True` to `join_dicom_tree`."
   ]
  },
  {
   "cell_type": "code",
   "execution_count": 47,
   "metadata": {},
   "outputs": [
    {
     "data": {
      "text/plain": [
       "('000466.dcm',\n",
       " 'ABD_LYMPH_001/09-14-2014-ABDLYMPH001-abdominallymphnodes-30274/abdominallymphnodes-26828')"
      ]
     },
     "execution_count": 47,
     "metadata": {},
     "output_type": "execute_result"
    }
   ],
   "source": [
    "# leave only dicoms that contain images (Pixel Arrays)\n",
    "dicoms = df[df.NoError & df.HasPixelArray]\n",
    "\n",
    "dicoms.FileName[1], dicoms.PathToFolder[1]"
   ]
  },
  {
   "cell_type": "markdown",
   "metadata": {},
   "source": [
    "## Aggregation\n",
    "\n",
    "Next, we can join the dicom files into series, which are often easier to operate with:"
   ]
  },
  {
   "cell_type": "code",
   "execution_count": 56,
   "metadata": {},
   "outputs": [
    {
     "data": {
      "text/plain": [
       "4"
      ]
     },
     "execution_count": 56,
     "metadata": {},
     "output_type": "execute_result"
    }
   ],
   "source": [
    "images = aggregate_images(dicoms)\n",
    "len(images)"
   ]
  },
  {
   "cell_type": "markdown",
   "metadata": {},
   "source": [
    "`aggregate_images` also adds some attributes: `SlicesCount`, `FileNames`, `InstanceNumbers`, check its docstring for more information.\n",
    "\n",
    "For example `FileNames` contains all the files that are part of a particular series:"
   ]
  },
  {
   "cell_type": "code",
   "execution_count": 57,
   "metadata": {},
   "outputs": [
    {
     "data": {
      "text/plain": [
       "'000466.dcm/000312.dcm/000150.dcm/000357.dcm/000311...'"
      ]
     },
     "execution_count": 57,
     "metadata": {},
     "output_type": "execute_result"
    }
   ],
   "source": [
    "images.FileNames[0][:50] + '...'"
   ]
  },
  {
   "cell_type": "markdown",
   "metadata": {},
   "source": [
    "As you can see, they are not ordered by default, but you can change this behaviour by passing the `process_series` argument which receives a subset of the dataframe, containing files from the same series:"
   ]
  },
  {
   "cell_type": "code",
   "execution_count": 58,
   "metadata": {},
   "outputs": [
    {
     "data": {
      "text/plain": [
       "'000000.dcm/000001.dcm/000002.dcm/000003.dcm/000004...'"
      ]
     },
     "execution_count": 58,
     "metadata": {},
     "output_type": "execute_result"
    }
   ],
   "source": [
    "images = aggregate_images(dicoms, process_series=lambda series: series.sort_values('FileName'))\n",
    "\n",
    "images.FileNames[0][:50] + '...'"
   ]
  },
  {
   "cell_type": "markdown",
   "metadata": {},
   "source": [
    "## Loading\n",
    "\n",
    "You can load a particular series' images stacked into a numpy array using the following function:"
   ]
  },
  {
   "cell_type": "code",
   "execution_count": 61,
   "metadata": {
    "scrolled": true
   },
   "outputs": [],
   "source": [
    "img = load_series(images.loc[0], path)"
   ]
  },
  {
   "cell_type": "markdown",
   "metadata": {},
   "source": [
    "it expects a row from the aggregated dataframe and, optinally, the `path` argument, if the paths are relative.\n",
    "\n",
    "The image's orientation as well as the slices' order are determined automatically:"
   ]
  },
  {
   "cell_type": "code",
   "execution_count": 64,
   "metadata": {},
   "outputs": [
    {
     "name": "stdout",
     "output_type": "stream",
     "text": [
      "(512, 512, 661) 512,512 661\n"
     ]
    }
   ],
   "source": [
    "print(img.shape, images.PixelArrayShape[0], images.SlicesCount[0])"
   ]
  },
  {
   "cell_type": "markdown",
   "metadata": {},
   "source": [
    "Finally, you can visualize the series using `slice3d`:"
   ]
  },
  {
   "cell_type": "code",
   "execution_count": null,
   "metadata": {},
   "outputs": [],
   "source": [
    "from dpipe.medim.visualize import slice3d\n",
    "\n",
    "slice3d(img)"
   ]
  }
 ],
 "metadata": {
  "kernelspec": {
   "display_name": "Miniconda3",
   "language": "python",
   "name": "miniconda3"
  },
  "language_info": {
   "codemirror_mode": {
    "name": "ipython",
    "version": 3
   },
   "file_extension": ".py",
   "mimetype": "text/x-python",
   "name": "python",
   "nbconvert_exporter": "python",
   "pygments_lexer": "ipython3",
   "version": "3.6.6"
  }
 },
 "nbformat": 4,
 "nbformat_minor": 2
}
