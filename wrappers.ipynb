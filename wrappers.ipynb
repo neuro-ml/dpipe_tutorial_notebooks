{
 "cells": [
  {
   "cell_type": "markdown",
   "metadata": {
    "collapsed": true,
    "pycharm": {}
   },
   "source": [
    "# Wrappers"
   ]
  },
  {
   "cell_type": "markdown",
   "metadata": {},
   "source": [
    "Consider the following dataset, which is a simple loader for MNIST:"
   ]
  },
  {
   "cell_type": "code",
   "execution_count": 20,
   "metadata": {},
   "outputs": [
    {
     "data": {
      "text/plain": [
       "((1, 28, 28), 5)"
      ]
     },
     "execution_count": 20,
     "metadata": {},
     "output_type": "execute_result"
    }
   ],
   "source": [
    "class MNIST:\n",
    "    # ...    \n",
    "    \n",
    "    def load_image(self, identifier: str):\n",
    "        return self.xs[int(identifier)]\n",
    "\n",
    "    def load_label(self, identifier: str):\n",
    "        return self.ys[int(identifier)]\n",
    "    \n",
    "# The full implementation can be found at `dpipe.tests.mnist.resources`:\n",
    "# from dpipe.tests.mnist.resources import MNIST\n",
    "\n",
    "dataset = MNIST('PATH TO DATA')\n",
    "dataset.load_image(0).shape, dataset.load_label(0)"
   ]
  },
  {
   "cell_type": "markdown",
   "metadata": {},
   "source": [
    "Next, suppose you want to upsample the images by a factor of 2.\n",
    "\n",
    "There are several solutions:\n",
    "\n",
    " * Rewrite the dataset - breaks compatibility, not reusable\n",
    " \n",
    " * Write a new dataset - not reusable, generates a lot of repetitive code\n",
    " \n",
    " * Subclass the dataset - not reusable\n",
    " \n",
    " * Wrap the dataset"
   ]
  },
  {
   "cell_type": "markdown",
   "metadata": {},
   "source": [
    "Wrappers are handy when you need to change the dataset's behaviour in a reusable way.\n",
    "\n",
    "You can think of a wrapper as an additional layer around the original dataset. In case of upsampling it could look something like this:"
   ]
  },
  {
   "cell_type": "code",
   "execution_count": 17,
   "metadata": {},
   "outputs": [],
   "source": [
    "from dpipe.dataset.wrappers import Proxy\n",
    "from dpipe.medim.shape_ops import zoom\n",
    "\n",
    "class UpsampleWrapper(Proxy):\n",
    "    def load_image(self, identifier):\n",
    "        # self._shadowed is the original dataset\n",
    "        image = self._shadowed.load_image(identifier)\n",
    "        image = zoom(image, [2, 2])\n",
    "        return image"
   ]
  },
  {
   "cell_type": "code",
   "execution_count": 21,
   "metadata": {},
   "outputs": [
    {
     "data": {
      "text/plain": [
       "((1, 56, 56), 5)"
      ]
     },
     "execution_count": 21,
     "metadata": {},
     "output_type": "execute_result"
    }
   ],
   "source": [
    "upsampled = UpsampleWrapper(dataset)\n",
    "upsampled.load_image(0).shape, upsampled.load_label(0)"
   ]
  },
  {
   "cell_type": "markdown",
   "metadata": {},
   "source": [
    "Now this wrapper can be reused with other datasets that have the `load_image` method.\n",
    "Note that `load_label` is also working, even though it wasn't defined in the wrapper.\n",
    "\n",
    "`dpipe` already has a collection of predefined wrappers, for example, you can apply upsampling as follows:"
   ]
  },
  {
   "cell_type": "code",
   "execution_count": 24,
   "metadata": {},
   "outputs": [],
   "source": [
    "from dpipe.dataset.wrappers import apply\n",
    "\n",
    "upsampled = apply(dataset, load_image=lambda image: zoom(image, [2, 2]))"
   ]
  },
  {
   "cell_type": "markdown",
   "metadata": {},
   "source": [
    "or in a more functional fashion:"
   ]
  },
  {
   "cell_type": "code",
   "execution_count": 25,
   "metadata": {},
   "outputs": [],
   "source": [
    "from functools import partial\n",
    "\n",
    "upsampled = apply(dataset, load_image=partial(zoom, scale_factor=[2, 2]))"
   ]
  }
 ],
 "metadata": {
  "kernelspec": {
   "display_name": "Python 3",
   "language": "python",
   "name": "python3"
  },
  "language_info": {
   "codemirror_mode": {
    "name": "ipython",
    "version": 3
   },
   "file_extension": ".py",
   "mimetype": "text/x-python",
   "name": "python",
   "nbconvert_exporter": "python",
   "pygments_lexer": "ipython3",
   "version": "3.6.3"
  }
 },
 "nbformat": 4,
 "nbformat_minor": 1
}
