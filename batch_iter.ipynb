{
  "cells": [
    {
      "cell_type": "markdown",
      "metadata": {
        "pycharm": {}
      },
      "source": [
        "# Batch iterators"
      ]
    },
    {
      "cell_type": "markdown",
      "metadata": {
        "pycharm": {}
      },
      "source": [
        "Batch iterators are built using the following constructor:"
      ]
    },
    {
      "cell_type": "code",
      "execution_count": 1,
      "metadata": {
        "pycharm": {}
      },
      "outputs": [],
      "source": [
        "from dpipe.batch_iter import Infinite"
      ]
    },
    {
      "cell_type": "markdown",
      "metadata": {
        "pycharm": {}
      },
      "source": [
        "its only required argument is `source` - an infinite iterable that yields entries from your data. \n",
        "\n",
        "We\u0027ll build an example batch iterator that yields batches from the MNIST dataset:"
      ]
    },
    {
      "cell_type": "code",
      "execution_count": null,
      "metadata": {
        "pycharm": {}
      },
      "outputs": [],
      "source": [
        "from dpipe.tests.mnist.resources import MNIST\n",
        "\n",
        "dataset \u003d MNIST(\u0027PATH TO DATA\u0027)"
      ]
    },
    {
      "cell_type": "code",
      "execution_count": 3,
      "metadata": {
        "pycharm": {}
      },
      "outputs": [],
      "source": "from dpipe.batch_iter import load_by_random_id\n\n# yield 10 batches of size 30 each epoch:\n\nbatch_iter \u003d Infinite(\n    load_by_random_id(dataset.load_image, dataset.load_label, ids\u003ddataset.ids),\n    batch_size\u003d30, batches_per_epoch\u003d10,\n)"
    },
    {
      "cell_type": "markdown",
      "metadata": {
        "pycharm": {}
      },
      "source": [
        "`load_by_random_id` infinitely yields data randomly sampled from the dataset:"
      ]
    },
    {
      "cell_type": "code",
      "execution_count": 4,
      "metadata": {
        "pycharm": {}
      },
      "outputs": [
        {
          "name": "stdout",
          "output_type": "stream",
          "text": [
            "(1, 28, 28) 4\n"
          ]
        }
      ],
      "source": [
        "for x, y in load_by_random_id(dataset.load_image, dataset.load_label, ids\u003ddataset.ids):\n",
        "    print(x.shape, y)\n",
        "    break"
      ]
    },
    {
      "cell_type": "markdown",
      "metadata": {
        "pycharm": {}
      },
      "source": [
        "We use infinite sources because our batch iterators are executed in a background thread, \n",
        "this allows us to use the resources more efficiently."
      ]
    },
    {
      "cell_type": "markdown",
      "metadata": {
        "pycharm": {}
      },
      "source": [
        "Now we can simply iterate over `batch_iter`:"
      ]
    },
    {
      "cell_type": "code",
      "execution_count": 6,
      "metadata": {
        "pycharm": {}
      },
      "outputs": [
        {
          "name": "stdout",
          "output_type": "stream",
          "text": [
            "(30, 1, 28, 28) (30,)\n",
            "(30, 1, 28, 28) (30,)\n",
            "(30, 1, 28, 28) (30,)\n",
            "(30, 1, 28, 28) (30,)\n",
            "(30, 1, 28, 28) (30,)\n",
            "(30, 1, 28, 28) (30,)\n",
            "(30, 1, 28, 28) (30,)\n",
            "(30, 1, 28, 28) (30,)\n",
            "(30, 1, 28, 28) (30,)\n",
            "(30, 1, 28, 28) (30,)\n"
          ]
        }
      ],
      "source": [
        "# give 10 batches of size 30\n",
        "for xs, ys in batch_iter():\n",
        "    print(xs.shape, ys.shape)"
      ]
    },
    {
      "cell_type": "markdown",
      "metadata": {
        "pycharm": {}
      },
      "source": [
        "... and reuse it again:"
      ]
    },
    {
      "cell_type": "code",
      "execution_count": 7,
      "metadata": {
        "pycharm": {}
      },
      "outputs": [
        {
          "name": "stdout",
          "output_type": "stream",
          "text": [
            "(30, 1, 28, 28) (30,)\n",
            "(30, 1, 28, 28) (30,)\n",
            "(30, 1, 28, 28) (30,)\n",
            "(30, 1, 28, 28) (30,)\n",
            "(30, 1, 28, 28) (30,)\n",
            "(30, 1, 28, 28) (30,)\n",
            "(30, 1, 28, 28) (30,)\n",
            "(30, 1, 28, 28) (30,)\n",
            "(30, 1, 28, 28) (30,)\n",
            "(30, 1, 28, 28) (30,)\n"
          ]
        }
      ],
      "source": [
        "# give another 10 batches of size 30\n",
        "for xs, ys in batch_iter():\n",
        "    print(xs.shape, ys.shape)"
      ]
    },
    {
      "cell_type": "markdown",
      "metadata": {
        "pycharm": {}
      },
      "source": [
        "After the training is over you must close the batch iterator in order to stop all the background processes:"
      ]
    },
    {
      "cell_type": "code",
      "execution_count": 8,
      "metadata": {
        "pycharm": {}
      },
      "outputs": [],
      "source": [
        "batch_iter.close()"
      ]
    },
    {
      "cell_type": "markdown",
      "metadata": {
        "pycharm": {}
      },
      "source": [
        "Or you can use it as a context manager:"
      ]
    },
    {
      "cell_type": "code",
      "execution_count": 12,
      "metadata": {
        "pycharm": {}
      },
      "outputs": [],
      "source": "batch_iter \u003d Infinite(\n    load_by_random_id(dataset.load_image, dataset.load_label, ids\u003ddataset.ids),\n    batch_size\u003d30, batches_per_epoch\u003d10,\n)"
    },
    {
      "cell_type": "code",
      "execution_count": 13,
      "metadata": {
        "pycharm": {}
      },
      "outputs": [
        {
          "name": "stdout",
          "output_type": "stream",
          "text": [
            "(30, 1, 28, 28) (30,)\n",
            "(30, 1, 28, 28) (30,)\n",
            "(30, 1, 28, 28) (30,)\n",
            "(30, 1, 28, 28) (30,)\n",
            "(30, 1, 28, 28) (30,)\n",
            "(30, 1, 28, 28) (30,)\n",
            "(30, 1, 28, 28) (30,)\n",
            "(30, 1, 28, 28) (30,)\n",
            "(30, 1, 28, 28) (30,)\n",
            "(30, 1, 28, 28) (30,)\n"
          ]
        }
      ],
      "source": [
        "with batch_iter:\n",
        "    for xs, ys in batch_iter():\n",
        "        print(xs.shape, ys.shape)"
      ]
    },
    {
      "cell_type": "markdown",
      "metadata": {
        "pycharm": {}
      },
      "source": [
        "### Transformations\n",
        "\n",
        "Let\u0027s add more transformations to the data."
      ]
    },
    {
      "cell_type": "code",
      "execution_count": 18,
      "metadata": {
        "pycharm": {}
      },
      "outputs": [],
      "source": [
        "from dpipe.medim.shape_ops import zoom\n",
        "\n",
        "def zoom_image(pair):\n",
        "    image, label \u003d pair\n",
        "    return zoom(image, scale_factor\u003d[2, 2]), label"
      ]
    },
    {
      "cell_type": "code",
      "execution_count": 19,
      "metadata": {
        "pycharm": {}
      },
      "outputs": [],
      "source": "batch_iter \u003d Infinite(\n    load_by_random_id(dataset.load_image, dataset.load_label, ids\u003ddataset.ids), # yields pairs\n    zoom_image, # zoom the images by a factor of 2\n    \n    batch_size\u003d30, batches_per_epoch\u003d3,\n)"
    },
    {
      "cell_type": "code",
      "execution_count": 20,
      "metadata": {
        "pycharm": {}
      },
      "outputs": [
        {
          "name": "stdout",
          "output_type": "stream",
          "text": [
            "(30, 1, 56, 56) (30,)\n",
            "(30, 1, 56, 56) (30,)\n",
            "(30, 1, 56, 56) (30,)\n"
          ]
        }
      ],
      "source": [
        "with batch_iter:\n",
        "    for xs, ys in batch_iter():\n",
        "        print(xs.shape, ys.shape)"
      ]
    },
    {
      "cell_type": "markdown",
      "metadata": {
        "pycharm": {}
      },
      "source": [
        "Note, that because `load_by_random_id` yields pairs, `pair` is the input of `zoom_image`. \n",
        "This is not very user-friendly, that\u0027s why there are a number of wrappers for transformers:"
      ]
    },
    {
      "cell_type": "code",
      "execution_count": 21,
      "metadata": {
        "pycharm": {}
      },
      "outputs": [],
      "source": "from dpipe.batch_iter.utils import unpack_args\n\n# a better version of zoom\ndef zoom_image(image, label):\n    return zoom(image, scale_factor\u003d[2, 2]), label\n\n\nbatch_iter \u003d Infinite(\n    load_by_random_id(dataset.load_image, dataset.load_label, ids\u003ddataset.ids),\n    unpack_args(zoom_image), # unpack the arguments before calling the function\n    \n    batch_size\u003d30, batches_per_epoch\u003d3)\n\n# or use a lambda directly\nbatch_iter \u003d Infinite(\n    load_by_random_id(dataset.load_image, dataset.load_label, ids\u003ddataset.ids),\n    unpack_args(lambda image, label: [zoom(image, scale_factor\u003d[2, 2]), label]),\n    \n    batch_size\u003d30, batches_per_epoch\u003d3)"
    },
    {
      "cell_type": "markdown",
      "metadata": {
        "pycharm": {}
      },
      "source": [
        "However, there is still redundancy: the `label` argument is simply passed through, only the `image` is transformed. Let\u0027s fix that:"
      ]
    },
    {
      "cell_type": "code",
      "execution_count": 28,
      "metadata": {
        "pycharm": {}
      },
      "outputs": [],
      "source": "from dpipe.batch_iter.utils import apply_at\n\nbatch_iter \u003d Infinite(\n    load_by_random_id(dataset.load_image, dataset.load_label, ids\u003ddataset.ids),\n    apply_at(0, zoom, scale_factor\u003d[2, 2]),\n    \n    batch_size\u003d30, batches_per_epoch\u003d3)"
    },
    {
      "cell_type": "code",
      "execution_count": 29,
      "metadata": {
        "pycharm": {}
      },
      "outputs": [
        {
          "name": "stdout",
          "output_type": "stream",
          "text": [
            "(30, 1, 56, 56) (30,)\n",
            "(30, 1, 56, 56) (30,)\n",
            "(30, 1, 56, 56) (30,)\n"
          ]
        }
      ],
      "source": [
        "with batch_iter:\n",
        "    for xs, ys in batch_iter():\n",
        "        print(xs.shape, ys.shape)"
      ]
    },
    {
      "cell_type": "markdown",
      "metadata": {
        "pycharm": {}
      },
      "source": [
        "Now we don\u0027t even have to create another function!\n",
        "\n",
        "Check `dpipe.batch_iter.utils` for other helper functions."
      ]
    }
  ],
  "metadata": {
    "kernelspec": {
      "display_name": "Miniconda3",
      "language": "python",
      "name": "miniconda3"
    },
    "language_info": {
      "codemirror_mode": {
        "name": "ipython",
        "version": 3
      },
      "file_extension": ".py",
      "mimetype": "text/x-python",
      "name": "python",
      "nbconvert_exporter": "python",
      "pygments_lexer": "ipython3",
      "version": "3.6.3"
    }
  },
  "nbformat": 4,
  "nbformat_minor": 2
}