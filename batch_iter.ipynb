{
 "cells": [
  {
   "cell_type": "markdown",
   "metadata": {
    "pycharm": {}
   },
   "source": [
    "# Batch iterators"
   ]
  },
  {
   "cell_type": "markdown",
   "metadata": {
    "pycharm": {}
   },
   "source": [
    "Batch iterators are built using the following constructor:"
   ]
  },
  {
   "cell_type": "code",
   "execution_count": 1,
   "metadata": {
    "pycharm": {}
   },
   "outputs": [],
   "source": [
    "from dpipe.batch_iter import Infinite"
   ]
  },
  {
   "cell_type": "markdown",
   "metadata": {
    "pycharm": {}
   },
   "source": [
    "its only required argument is `source` - an infinite iterable that yields entries from your data. \n",
    "\n",
    "We'll build an example batch iterator that yields batches from the MNIST dataset:"
   ]
  },
  {
   "cell_type": "code",
   "execution_count": 2,
   "metadata": {
    "pycharm": {}
   },
   "outputs": [],
   "source": [
    "from torchvision.datasets import MNIST\n",
    "from pathlib import Path\n",
    "import numpy as np\n",
    "\n",
    "\n",
    "# download to ~/tests/MNIST, if necessary\n",
    "dataset = MNIST(Path('~/tests/MNIST').expanduser(), transform=np.array, download=True)"
   ]
  },
  {
   "cell_type": "markdown",
   "metadata": {},
   "source": [
    "### Sampling"
   ]
  },
  {
   "cell_type": "code",
   "execution_count": 3,
   "metadata": {
    "pycharm": {}
   },
   "outputs": [],
   "source": [
    "from dpipe.batch_iter import sample\n",
    "\n",
    "# yield 10 batches of size 30 each epoch:\n",
    "\n",
    "batch_iter = Infinite(\n",
    "    sample(dataset), # randomly sample from the dataset\n",
    "    batch_size=30, batches_per_epoch=10,\n",
    ")"
   ]
  },
  {
   "cell_type": "markdown",
   "metadata": {
    "pycharm": {}
   },
   "source": [
    "`sample` infinitely yields data randomly sampled from the dataset:"
   ]
  },
  {
   "cell_type": "code",
   "execution_count": 4,
   "metadata": {
    "pycharm": {}
   },
   "outputs": [
    {
     "name": "stdout",
     "output_type": "stream",
     "text": [
      "(28, 28) 7\n"
     ]
    }
   ],
   "source": [
    "for x, y in sample(dataset):\n",
    "    print(x.shape, y)\n",
    "    break"
   ]
  },
  {
   "cell_type": "markdown",
   "metadata": {
    "pycharm": {}
   },
   "source": [
    "We use infinite sources because our batch iterators are executed in a background thread, \n",
    "this allows us to use the resources more efficiently. For example, a new batch can be prepared while the network's forward and backward passes are performed in the main thread."
   ]
  },
  {
   "cell_type": "markdown",
   "metadata": {
    "pycharm": {}
   },
   "source": [
    "Now we can simply iterate over `batch_iter`:"
   ]
  },
  {
   "cell_type": "code",
   "execution_count": 5,
   "metadata": {
    "pycharm": {}
   },
   "outputs": [
    {
     "name": "stdout",
     "output_type": "stream",
     "text": [
      "(30, 28, 28) (30,)\n",
      "(30, 28, 28) (30,)\n",
      "(30, 28, 28) (30,)\n",
      "(30, 28, 28) (30,)\n",
      "(30, 28, 28) (30,)\n",
      "(30, 28, 28) (30,)\n",
      "(30, 28, 28) (30,)\n",
      "(30, 28, 28) (30,)\n",
      "(30, 28, 28) (30,)\n",
      "(30, 28, 28) (30,)\n"
     ]
    }
   ],
   "source": [
    "# give 10 batches of size 30\n",
    "for xs, ys in batch_iter():\n",
    "    print(xs.shape, ys.shape)"
   ]
  },
  {
   "cell_type": "markdown",
   "metadata": {
    "pycharm": {}
   },
   "source": [
    "... and reuse it again:"
   ]
  },
  {
   "cell_type": "code",
   "execution_count": 6,
   "metadata": {
    "pycharm": {}
   },
   "outputs": [
    {
     "name": "stdout",
     "output_type": "stream",
     "text": [
      "(30, 28, 28) (30,)\n",
      "(30, 28, 28) (30,)\n",
      "(30, 28, 28) (30,)\n",
      "(30, 28, 28) (30,)\n",
      "(30, 28, 28) (30,)\n",
      "(30, 28, 28) (30,)\n",
      "(30, 28, 28) (30,)\n",
      "(30, 28, 28) (30,)\n",
      "(30, 28, 28) (30,)\n",
      "(30, 28, 28) (30,)\n"
     ]
    }
   ],
   "source": [
    "# give another 10 batches of size 30\n",
    "for xs, ys in batch_iter():\n",
    "    print(xs.shape, ys.shape)"
   ]
  },
  {
   "cell_type": "markdown",
   "metadata": {
    "pycharm": {}
   },
   "source": [
    "After the training is over you must close the batch iterator in order to stop all the background processes:"
   ]
  },
  {
   "cell_type": "code",
   "execution_count": 7,
   "metadata": {
    "pycharm": {}
   },
   "outputs": [],
   "source": [
    "batch_iter.close()"
   ]
  },
  {
   "cell_type": "markdown",
   "metadata": {
    "pycharm": {}
   },
   "source": [
    "Or you can use it as a context manager:"
   ]
  },
  {
   "cell_type": "code",
   "execution_count": 8,
   "metadata": {
    "pycharm": {}
   },
   "outputs": [
    {
     "name": "stdout",
     "output_type": "stream",
     "text": [
      "(30, 28, 28) (30,)\n",
      "(30, 28, 28) (30,)\n",
      "(30, 28, 28) (30,)\n",
      "(30, 28, 28) (30,)\n",
      "(30, 28, 28) (30,)\n",
      "(30, 28, 28) (30,)\n",
      "(30, 28, 28) (30,)\n",
      "(30, 28, 28) (30,)\n",
      "(30, 28, 28) (30,)\n",
      "(30, 28, 28) (30,)\n"
     ]
    }
   ],
   "source": [
    "batch_iter = Infinite(\n",
    "    sample(dataset),\n",
    "    batch_size=30, batches_per_epoch=10,\n",
    ")\n",
    "\n",
    "with batch_iter:\n",
    "    for xs, ys in batch_iter():\n",
    "        print(xs.shape, ys.shape)"
   ]
  },
  {
   "cell_type": "markdown",
   "metadata": {
    "pycharm": {}
   },
   "source": [
    "### Transformations\n",
    "\n",
    "Let's add more transformations to the data."
   ]
  },
  {
   "cell_type": "code",
   "execution_count": 9,
   "metadata": {
    "pycharm": {}
   },
   "outputs": [],
   "source": [
    "from dpipe.im import zoom\n",
    "\n",
    "def zoom_image(pair):\n",
    "    image, label = pair\n",
    "    return zoom(image, scale_factor=[2, 2]), label"
   ]
  },
  {
   "cell_type": "code",
   "execution_count": 10,
   "metadata": {
    "pycharm": {}
   },
   "outputs": [],
   "source": [
    "batch_iter = Infinite(\n",
    "    sample(dataset), # yields pairs\n",
    "    zoom_image, # zoom the images by a factor of 2\n",
    "    \n",
    "    batch_size=30, batches_per_epoch=3,\n",
    ")"
   ]
  },
  {
   "cell_type": "markdown",
   "metadata": {},
   "source": [
    "You can think of \\$Infinite\\$ as a pipe through which the data flows.\n",
    "\n",
    "Each function takes as input the data (an `[image, label]` pair in this case) applies a trasformation, and the result is propagated further."
   ]
  },
  {
   "cell_type": "code",
   "execution_count": 11,
   "metadata": {
    "pycharm": {}
   },
   "outputs": [
    {
     "name": "stdout",
     "output_type": "stream",
     "text": [
      "(30, 56, 56) (30,)\n",
      "(30, 56, 56) (30,)\n",
      "(30, 56, 56) (30,)\n"
     ]
    }
   ],
   "source": [
    "with batch_iter:\n",
    "    for xs, ys in batch_iter():\n",
    "        print(xs.shape, ys.shape)"
   ]
  },
  {
   "cell_type": "markdown",
   "metadata": {
    "pycharm": {}
   },
   "source": [
    "Note, that because `sample` yields pairs, `pair` is the input of `zoom_image`. \n",
    "This is not very user-friendly, that's why there are a number of wrappers for transformers:"
   ]
  },
  {
   "cell_type": "code",
   "execution_count": 12,
   "metadata": {
    "pycharm": {}
   },
   "outputs": [],
   "source": [
    "from dpipe.batch_iter import unpack_args\n",
    "\n",
    "# a better version of zoom\n",
    "def zoom_image(image, label):\n",
    "    return zoom(image, scale_factor=[2, 2]), label\n",
    "\n",
    "\n",
    "batch_iter = Infinite(\n",
    "    sample(dataset),\n",
    "    unpack_args(zoom_image), # unpack the arguments before calling the function\n",
    "    \n",
    "    batch_size=30, batches_per_epoch=3)\n",
    "\n",
    "# or use a lambda directly\n",
    "batch_iter = Infinite(\n",
    "    sample(dataset),\n",
    "    unpack_args(lambda image, label: [zoom(image, scale_factor=[2, 2]), label]),\n",
    "    \n",
    "    batch_size=30, batches_per_epoch=3)"
   ]
  },
  {
   "cell_type": "markdown",
   "metadata": {
    "pycharm": {}
   },
   "source": [
    "However, there is still redundancy: the `label` argument is simply passed through, only the `image` is transformed. Let's fix that:"
   ]
  },
  {
   "cell_type": "code",
   "execution_count": 13,
   "metadata": {
    "pycharm": {}
   },
   "outputs": [],
   "source": [
    "from dpipe.batch_iter import apply_at\n",
    "\n",
    "batch_iter = Infinite(\n",
    "    sample(dataset),\n",
    "    # apply zoom at index 0 of the pair with scale_factor=[2, 2] as an additional argument\n",
    "    apply_at(0, zoom, scale_factor=[2, 2]),\n",
    "    \n",
    "    batch_size=30, batches_per_epoch=3)"
   ]
  },
  {
   "cell_type": "code",
   "execution_count": 14,
   "metadata": {
    "pycharm": {}
   },
   "outputs": [
    {
     "name": "stdout",
     "output_type": "stream",
     "text": [
      "(30, 56, 56) (30,)\n",
      "(30, 56, 56) (30,)\n",
      "(30, 56, 56) (30,)\n"
     ]
    }
   ],
   "source": [
    "with batch_iter:\n",
    "    for xs, ys in batch_iter():\n",
    "        print(xs.shape, ys.shape)"
   ]
  },
  {
   "cell_type": "markdown",
   "metadata": {
    "pycharm": {}
   },
   "source": [
    "Now we don't even have to create another function!\n",
    "\n",
    "Check `dpipe.batch_iter.utils` for other helper functions."
   ]
  },
  {
   "cell_type": "markdown",
   "metadata": {},
   "source": [
    "### Parallel execution\n",
    "\n",
    "The batch iterator supports both thread-based and process-based execution.\n",
    "\n",
    "#### Threads\n",
    "\n",
    "Wrap the function in \\$Threads\\$ in order to enable thread-based parallelism:"
   ]
  },
  {
   "cell_type": "code",
   "execution_count": 15,
   "metadata": {},
   "outputs": [
    {
     "name": "stdout",
     "output_type": "stream",
     "text": [
      "CPU times: user 33.3 ms, sys: 9.17 ms, total: 42.5 ms\n",
      "Wall time: 10 s\n"
     ]
    }
   ],
   "source": [
    "%%time\n",
    "\n",
    "import time\n",
    "import itertools\n",
    "from dpipe.batch_iter import Threads\n",
    "\n",
    "\n",
    "def do_stuff(x):\n",
    "    time.sleep(1)\n",
    "    return x ** 2,\n",
    "\n",
    "batch_iter = Infinite(\n",
    "    range(10),\n",
    "    do_stuff, # sleep for 10 seconds\n",
    "    batch_size=10, batches_per_epoch=1\n",
    ")\n",
    "\n",
    "for value in batch_iter():\n",
    "    pass"
   ]
  },
  {
   "cell_type": "code",
   "execution_count": 16,
   "metadata": {},
   "outputs": [
    {
     "name": "stdout",
     "output_type": "stream",
     "text": [
      "CPU times: user 21.4 ms, sys: 7.75 ms, total: 29.1 ms\n",
      "Wall time: 5.01 s\n"
     ]
    }
   ],
   "source": [
    "%%time\n",
    "\n",
    "batch_iter = Infinite(\n",
    "    range(10),\n",
    "    Threads(do_stuff, n_workers=2), # sleep for 5 seconds\n",
    "    batch_size=10, batches_per_epoch=1\n",
    ")\n",
    "\n",
    "for value in batch_iter():\n",
    "    pass"
   ]
  },
  {
   "cell_type": "markdown",
   "metadata": {},
   "source": [
    "#### Processes\n",
    "\n",
    "Similarly, wrap the function in \\$Loky\\$ in order to enable process-based parallelism:"
   ]
  },
  {
   "cell_type": "code",
   "execution_count": 17,
   "metadata": {},
   "outputs": [],
   "source": [
    "from dpipe.batch_iter import Loky"
   ]
  },
  {
   "cell_type": "code",
   "execution_count": 24,
   "metadata": {},
   "outputs": [
    {
     "name": "stdout",
     "output_type": "stream",
     "text": [
      "CPU times: user 43.6 ms, sys: 27.6 ms, total: 71.2 ms\n",
      "Wall time: 5.56 s\n"
     ]
    }
   ],
   "source": [
    "%%time\n",
    "\n",
    "batch_iter = Infinite(\n",
    "    range(10),\n",
    "    Loky(do_stuff, n_workers=2), # sleep for 5 seconds\n",
    "    batch_size=10, batches_per_epoch=1\n",
    ")\n",
    "\n",
    "for value in batch_iter():\n",
    "    pass"
   ]
  },
  {
   "cell_type": "markdown",
   "metadata": {},
   "source": [
    "### Combining objects into batches\n",
    "\n",
    "If your dataset contains items of various shapes, you can't just stack them into batches.\n",
    "For example you may want to pad them to a common shape. To do this, pass a custom `combiner` to \\$Infinite\\$:"
   ]
  },
  {
   "cell_type": "code",
   "execution_count": 19,
   "metadata": {},
   "outputs": [],
   "source": [
    "# random 3D images of random shapes:\n",
    "\n",
    "images = [np.random.randn(10, 10, np.random.randint(2, 40)) for _ in range(100)]\n",
    "labels = np.random.randint(0, 2, size=30)"
   ]
  },
  {
   "cell_type": "code",
   "execution_count": 20,
   "metadata": {},
   "outputs": [
    {
     "data": {
      "text/plain": [
       "((10, 10, 34), (10, 10, 34))"
      ]
     },
     "execution_count": 20,
     "metadata": {},
     "output_type": "execute_result"
    }
   ],
   "source": [
    "images[0].shape, images[1].shape"
   ]
  },
  {
   "cell_type": "code",
   "execution_count": 21,
   "metadata": {},
   "outputs": [
    {
     "name": "stdout",
     "output_type": "stream",
     "text": [
      "(5, 10, 10, 39) (5,)\n",
      "(5, 10, 10, 34) (5,)\n",
      "(5, 10, 10, 39) (5,)\n"
     ]
    }
   ],
   "source": [
    "from dpipe.batch_iter import combine_pad\n",
    "\n",
    "batch_iter = Infinite(\n",
    "    sample(list(zip(images, labels))),\n",
    "    batch_size=5, batches_per_epoch=3, \n",
    "#     pad and combine\n",
    "    combiner=combine_pad\n",
    ")\n",
    "\n",
    "with batch_iter:\n",
    "    for xs, ys in batch_iter():\n",
    "        print(xs.shape, ys.shape)"
   ]
  },
  {
   "cell_type": "markdown",
   "metadata": {},
   "source": [
    "### Adaptive batch size\n",
    "\n",
    "If samples in your pipeline have various sizes, a constant batch size can be too wasteful.\n",
    "\n",
    "You can pass a function to `batch_size` instead of an integer.\n",
    "\n",
    "Let's say we are classifying 3D images of different shapes along the last axis.\n",
    "We want a batch to contain at most 100 slices along the last axis."
   ]
  },
  {
   "cell_type": "code",
   "execution_count": 22,
   "metadata": {},
   "outputs": [],
   "source": [
    "def should_add(seq, item):\n",
    "    # seq - sequence of already added objects to the batch\n",
    "    # item - the next item\n",
    "    \n",
    "    count = 0\n",
    "    for image, label in seq + [item]:\n",
    "        count += image.shape[-1]\n",
    "        \n",
    "    return count <= 100"
   ]
  },
  {
   "cell_type": "code",
   "execution_count": 23,
   "metadata": {},
   "outputs": [
    {
     "name": "stdout",
     "output_type": "stream",
     "text": [
      "(5, 10, 10, 34) (5,)\n",
      "(4, 10, 10, 25) (4,)\n",
      "(4, 10, 10, 32) (4,)\n"
     ]
    }
   ],
   "source": [
    "from dpipe.batch_iter import combine_pad\n",
    "\n",
    "batch_iter = Infinite(\n",
    "    sample(list(zip(images, labels))),\n",
    "    \n",
    "    batch_size=should_add, batches_per_epoch=3, \n",
    "    combiner=combine_pad\n",
    ")\n",
    "\n",
    "with batch_iter:\n",
    "    for xs, ys in batch_iter():\n",
    "        print(xs.shape, ys.shape)"
   ]
  },
  {
   "cell_type": "markdown",
   "metadata": {},
   "source": [
    "Note that the batch sizes are different: 4, 4, 5"
   ]
  }
 ],
 "metadata": {
  "kernelspec": {
   "display_name": "Python 3",
   "language": "python",
   "name": "python3"
  },
  "language_info": {
   "codemirror_mode": {
    "name": "ipython",
    "version": 3
   },
   "file_extension": ".py",
   "mimetype": "text/x-python",
   "name": "python",
   "nbconvert_exporter": "python",
   "pygments_lexer": "ipython3",
   "version": "3.6.8"
  }
 },
 "nbformat": 4,
 "nbformat_minor": 2
}
