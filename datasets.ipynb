{
 "cells": [
  {
   "cell_type": "markdown",
   "metadata": {},
   "source": [
    "The base concept of dPipe is a modular configuration of your code. To create your own modular environment you have to know the main building blocks. One of these blocks is dataset.\n",
    "\n",
    "\n",
    "From this tutorial you'll know how to work with datasets in dPipe"
   ]
  },
  {
   "cell_type": "markdown",
   "metadata": {},
   "source": [
    "# Base Dataset"
   ]
  },
  {
   "cell_type": "markdown",
   "metadata": {},
   "source": [
    "The base class of dpipe.dataset module is Dataset. This is an abstract method providing an opportunity of creating \"everything you want\" inside. The main goal of the dataset in dPipe is data extracting. It has only one rule: to extract example of data you should know the identifier of this example. It could look like as redundant but the main idea of creating this base class is the concept of modularity (see scheme)."
   ]
  },
  {
   "cell_type": "markdown",
   "metadata": {},
   "source": [
    "# Example: MNIST data"
   ]
  },
  {
   "cell_type": "markdown",
   "metadata": {},
   "source": [
    "Below we create MNIST dataset for classification and demonstrate how it works. For classification, we should know what is the picture and its label. Using this logic we descripe methods load_image and load_label inside the dataset for extracting image and label"
   ]
  },
  {
   "cell_type": "code",
   "execution_count": 1,
   "metadata": {},
   "outputs": [
    {
     "name": "stdout",
     "output_type": "stream",
     "text": [
      "Populating the interactive namespace from numpy and matplotlib\n"
     ]
    }
   ],
   "source": [
    "%pylab inline"
   ]
  },
  {
   "cell_type": "code",
   "execution_count": 2,
   "metadata": {},
   "outputs": [],
   "source": [
    "from os.path import join as jp, expanduser\n",
    "import gzip\n",
    "\n",
    "import numpy as np\n",
    "\n",
    "from dpipe.dataset.base import Dataset\n",
    "\n",
    "\n",
    "def load_mnist(folder, filename, offset):\n",
    "    with open(expanduser(jp(folder, filename)), 'rb') as f:\n",
    "        return np.frombuffer(f.read(), np.uint8, offset=offset)\n",
    "\n",
    "\n",
    "class MNISTClassification(Dataset):\n",
    "    def __init__(self, folder):\n",
    "        self.xs = load_mnist(folder, 'train-images-idx3-ubyte', 16).reshape(-1, 1, 28, 28).astype('float32')\n",
    "        self.ys = load_mnist(folder, 'train-labels-idx1-ubyte', 8).astype('long')\n",
    "        self.ids = tuple(range(len(self.xs)))\n",
    "        self.n_chans_image = 1\n",
    "\n",
    "    def load_image(self, identifier: str):\n",
    "        return self.xs[int(identifier)]\n",
    "\n",
    "    def load_label(self, identifier: str):\n",
    "        return self.ys[int(identifier)]"
   ]
  },
  {
   "cell_type": "code",
   "execution_count": 3,
   "metadata": {},
   "outputs": [],
   "source": [
    "mnistcl = MNISTClassification('data/MNIST/raw/')"
   ]
  },
  {
   "cell_type": "markdown",
   "metadata": {},
   "source": [
    "Let's see on 98-th example of the data extracted by MNIST class"
   ]
  },
  {
   "cell_type": "code",
   "execution_count": 4,
   "metadata": {},
   "outputs": [
    {
     "data": {
      "text/plain": [
       "(1, 28, 28)"
      ]
     },
     "execution_count": 4,
     "metadata": {},
     "output_type": "execute_result"
    }
   ],
   "source": [
    "mnistcl.load_image(98).shape"
   ]
  },
  {
   "cell_type": "code",
   "execution_count": 6,
   "metadata": {},
   "outputs": [
    {
     "data": {
      "text/plain": [
       "<matplotlib.image.AxesImage at 0x7f977456c4a8>"
      ]
     },
     "execution_count": 6,
     "metadata": {},
     "output_type": "execute_result"
    },
    {
     "data": {
      "image/png": "[encoded data removed]",
      "text/plain": [
       "<Figure size 432x288 with 1 Axes>"
      ]
     },
     "metadata": {
      "needs_background": "light"
     },
     "output_type": "display_data"
    }
   ],
   "source": [
    "plt.imshow(mnistcl.load_image(98)[0, :, :])"
   ]
  },
  {
   "cell_type": "code",
   "execution_count": 7,
   "metadata": {},
   "outputs": [
    {
     "data": {
      "text/plain": [
       "3"
      ]
     },
     "execution_count": 7,
     "metadata": {},
     "output_type": "execute_result"
    }
   ],
   "source": [
    "mnistcl.load_label(98)"
   ]
  },
  {
   "cell_type": "markdown",
   "metadata": {},
   "source": [
    "Using this class you can iterate over your data (it helps you in the other modules of dPipe, see [BatchIterator tutorial](https://deep-pipe.readthedocs.io/en/latest/tutorials/batch_iter.html)) "
   ]
  },
  {
   "cell_type": "markdown",
   "metadata": {},
   "source": [
    "It could be also the dataset for segmentation. The task of segmentation needs the image and the mask of segments. For extracting this data we create load_image and load_mask method."
   ]
  },
  {
   "cell_type": "code",
   "execution_count": 8,
   "metadata": {},
   "outputs": [],
   "source": [
    "class MNISTSegmentation(Dataset):\n",
    "    def __init__(self, folder):\n",
    "        self.xs = load_mnist(folder, 'train-images-idx3-ubyte', 16).reshape(-1, 1, 28, 28).astype('float32')\n",
    "        self.ys = load_mnist(folder, 'train-labels-idx1-ubyte', 8).astype('long')\n",
    "        self.ids = tuple(range(len(self.xs)))\n",
    "        self.n_chans_image = 1\n",
    "\n",
    "    def load_image(self, identifier: str):\n",
    "        return self.xs[int(identifier)]\n",
    "\n",
    "    def load_mask(self, identifier: str):\n",
    "        return self.load_image(identifier) > 0"
   ]
  },
  {
   "cell_type": "code",
   "execution_count": 9,
   "metadata": {},
   "outputs": [],
   "source": [
    "mnistseg = MNISTSegmentation('data/MNIST/raw/')"
   ]
  },
  {
   "cell_type": "code",
   "execution_count": 10,
   "metadata": {},
   "outputs": [
    {
     "data": {
      "text/plain": [
       "<matplotlib.image.AxesImage at 0x7f9774344c50>"
      ]
     },
     "execution_count": 10,
     "metadata": {},
     "output_type": "execute_result"
    },
    {
     "data": {
      "image/png": "[encoded data removed]",
      "text/plain": [
       "<Figure size 432x288 with 1 Axes>"
      ]
     },
     "metadata": {
      "needs_background": "light"
     },
     "output_type": "display_data"
    }
   ],
   "source": [
    "plt.imshow(mnistseg.load_mask(98)[0, :, :])"
   ]
  },
  {
   "cell_type": "markdown",
   "metadata": {},
   "source": [
    "As mentioned above, the dataset exist only for data loading. If you want to make some manupalations with your data, then you should use Wrappers (tutorial you can find out [here](https://deep-pipe.readthedocs.io/en/latest/tutorials/wrappers.html))"
   ]
  }
 ],
 "metadata": {
  "kernelspec": {
   "display_name": "Python 3",
   "language": "python",
   "name": "python3"
  },
  "language_info": {
   "codemirror_mode": {
    "name": "ipython",
    "version": 3
   },
   "file_extension": ".py",
   "mimetype": "text/x-python",
   "name": "python",
   "nbconvert_exporter": "python",
   "pygments_lexer": "ipython3",
   "version": "3.6.7"
  }
 },
 "nbformat": 4,
 "nbformat_minor": 2
}
